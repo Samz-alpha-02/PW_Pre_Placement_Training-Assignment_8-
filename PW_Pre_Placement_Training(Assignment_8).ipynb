{
  "nbformat": 4,
  "nbformat_minor": 0,
  "metadata": {
    "colab": {
      "provenance": []
    },
    "kernelspec": {
      "name": "python3",
      "display_name": "Python 3"
    },
    "language_info": {
      "name": "python"
    }
  },
  "cells": [
    {
      "cell_type": "code",
      "execution_count": 1,
      "metadata": {
        "colab": {
          "base_uri": "https://localhost:8080/"
        },
        "id": "sz6f4konJlRK",
        "outputId": "fbecfd95-b4ff-4bbb-dcc2-0a077216ca7b"
      },
      "outputs": [
        {
          "output_type": "stream",
          "name": "stdout",
          "text": [
            "231\n"
          ]
        }
      ],
      "source": [
        "#Q1\n",
        "s1 = \"sea\"\n",
        "s1_sorted = ''.join(sorted(s1, key=lambda char: ord(char)))\n",
        "s2 = \"eat\"\n",
        "s2_sorted = ''.join(sorted(s2, key=lambda char: ord(char)))\n",
        "sum_char=0\n",
        "if len(s1_sorted)==len(s2_sorted):\n",
        "    for i in range(len(s1_sorted)):\n",
        "        if s1_sorted[i]!=s2_sorted[i]:\n",
        "            sum_char+=ord(s1_sorted[i])+ord(s2_sorted[i])\n",
        "\n",
        "print(sum_char)"
      ]
    },
    {
      "cell_type": "code",
      "source": [
        "#Q2\n",
        "def is_valid(s):\n",
        "    stack = []\n",
        "\n",
        "    for char in s:\n",
        "        if char == '(':\n",
        "            stack.append(char)\n",
        "        elif char == ')':\n",
        "            if stack and stack[-1] == '(':\n",
        "                stack.pop()\n",
        "            elif stack and stack[-1] == '*':\n",
        "                stack.pop()\n",
        "            else:\n",
        "                return False\n",
        "        elif char == '*':\n",
        "            stack.append(char)\n",
        "\n",
        "    while stack:\n",
        "        if stack[-1] == '(':\n",
        "            if '*' in stack:\n",
        "                stack.pop()\n",
        "                stack.pop()\n",
        "            else:\n",
        "                return False\n",
        "        else:\n",
        "            stack.pop()\n",
        "\n",
        "    return True\n",
        "\n",
        "s1 = \"()\"\n",
        "print(is_valid(s1))\n",
        "\n",
        "s2 = \"(*)\"\n",
        "print(is_valid(s2))\n",
        "\n",
        "s3 = \"(*))\"\n",
        "print(is_valid(s3))\n",
        "\n",
        "s4 = \"(((*)\"\n",
        "print(is_valid(s4))\n",
        "\n",
        "s5 = \"((*)*)\"\n",
        "print(is_valid(s5))\n",
        "\n",
        "s6 = \"((*))\"\n",
        "print(is_valid(s6))\n",
        "\n",
        "s7 = \")*(\"\n",
        "print(is_valid(s7))\n"
      ],
      "metadata": {
        "colab": {
          "base_uri": "https://localhost:8080/"
        },
        "id": "JRli2FQrQVTT",
        "outputId": "48c0e36b-7122-4af8-bd00-dd3da2dcd329"
      },
      "execution_count": 2,
      "outputs": [
        {
          "output_type": "stream",
          "name": "stdout",
          "text": [
            "True\n",
            "False\n",
            "True\n",
            "False\n",
            "False\n",
            "False\n",
            "False\n"
          ]
        }
      ]
    },
    {
      "cell_type": "code",
      "source": [
        "#Q3\n",
        "def valid(s1,s2):\n",
        "  s1_sorted = ''.join(sorted(s1, key=lambda char: ord(char)))\n",
        "  s2_sorted = ''.join(sorted(s2, key=lambda char: ord(char)))\n",
        "  count=0\n",
        "  if len(s1_sorted)==len(s2_sorted):\n",
        "    for i in range(len(s1_sorted)):\n",
        "        if s1_sorted[i]!=s2_sorted[i]:\n",
        "            count+=2 #1st count is to delete s1_sorted[i] and 2nd count is to delete s2_sorted[i]\n",
        "  return count\n",
        "\n",
        "s1 = \"seaman\"\n",
        "s2 = \"eatmap\"\n",
        "print(valid(s1,s2))\n",
        "s3 = \"sea\"\n",
        "s4 = \"eat\"\n",
        "print(valid(s3,s4))"
      ],
      "metadata": {
        "colab": {
          "base_uri": "https://localhost:8080/"
        },
        "id": "BF402K91UCoI",
        "outputId": "f835b45c-f9ac-4f4f-a235-00a4511572d8"
      },
      "execution_count": 6,
      "outputs": [
        {
          "output_type": "stream",
          "name": "stdout",
          "text": [
            "4\n",
            "2\n"
          ]
        }
      ]
    },
    {
      "cell_type": "code",
      "source": [
        "#Q4\n",
        "class TreeNode:\n",
        "    def __init__(self, value):\n",
        "        self.val = value\n",
        "        self.left = None\n",
        "        self.right = None\n",
        "\n",
        "def construct_binary_tree(s):\n",
        "    if not s:\n",
        "        return None\n",
        "\n",
        "    stack = []\n",
        "    i = 0\n",
        "\n",
        "    while i < len(s):\n",
        "        if s[i].isdigit():\n",
        "            j = i\n",
        "            while j < len(s) and s[j].isdigit():\n",
        "                j += 1\n",
        "\n",
        "            node = TreeNode(int(s[i:j]))\n",
        "\n",
        "            if stack:\n",
        "                parent = stack[-1]\n",
        "                if parent.left is None:\n",
        "                    parent.left = node\n",
        "                else:\n",
        "                    parent.right = node\n",
        "\n",
        "            stack.append(node)\n",
        "            i = j\n",
        "        elif s[i] == '(':\n",
        "            i += 1\n",
        "        elif s[i] == ')':\n",
        "            stack.pop()\n",
        "            i += 1\n",
        "\n",
        "    return stack[-1] if stack else None\n",
        "\n",
        "def inorder_traversal(node):\n",
        "    if node is not None:\n",
        "        inorder_traversal(node.left)\n",
        "        print(node.val, end=' ')\n",
        "        inorder_traversal(node.right)\n",
        "\n",
        "s = \"4(2(3)(1))(6(5))\"\n",
        "root = construct_binary_tree(s)\n",
        "inorder_traversal(root)\n",
        "\n"
      ],
      "metadata": {
        "colab": {
          "base_uri": "https://localhost:8080/"
        },
        "id": "dWtF-kTJWIdt",
        "outputId": "32452918-9149-45d6-f72a-2646f342e37a"
      },
      "execution_count": 9,
      "outputs": [
        {
          "output_type": "stream",
          "name": "stdout",
          "text": [
            "3 2 1 4 5 6 "
          ]
        }
      ]
    },
    {
      "cell_type": "code",
      "source": [
        "#Q5\n",
        "def compress(chars):\n",
        "    # Initialize variables\n",
        "    anchor = 0\n",
        "    write = 0\n",
        "\n",
        "    # Iterate through the characters\n",
        "    for read in range(len(chars)):\n",
        "        # Check if it's the last character or the next character is different\n",
        "        if read + 1 == len(chars) or chars[read + 1] != chars[read]:\n",
        "            # Write the current character\n",
        "            chars[write] = chars[anchor]\n",
        "            write += 1\n",
        "\n",
        "            # If the group has more than one character, write the group length\n",
        "            if read > anchor:\n",
        "                count = read - anchor + 1\n",
        "                count_str = str(count)\n",
        "                chars[write:write + len(count_str)] = count_str\n",
        "                write += len(count_str)\n",
        "\n",
        "            # Move the anchor to the next group\n",
        "            anchor = read + 1\n",
        "\n",
        "    return write\n",
        "\n",
        "chars = [\"a\",\"a\",\"b\",\"b\",\"c\",\"c\",\"c\"]\n",
        "print(compress(chars))"
      ],
      "metadata": {
        "colab": {
          "base_uri": "https://localhost:8080/"
        },
        "id": "IyPfBGXbbX0o",
        "outputId": "da701d26-b09e-4fb2-f32a-4e42e37052f6"
      },
      "execution_count": 10,
      "outputs": [
        {
          "output_type": "stream",
          "name": "stdout",
          "text": [
            "6\n"
          ]
        }
      ]
    },
    {
      "cell_type": "code",
      "source": [
        "#Q6\n",
        "from collections import Counter\n",
        "\n",
        "def findAnagrams(s, p):\n",
        "    p_count = Counter(p)\n",
        "    window_count = Counter(s[:len(p)])\n",
        "    result = []\n",
        "\n",
        "    for i in range(len(p), len(s)):\n",
        "        if p_count == window_count:\n",
        "            result.append(i - len(p))\n",
        "\n",
        "        # Update the window count by removing the leftmost character\n",
        "        window_count[s[i - len(p)]] -= 1\n",
        "        if window_count[s[i - len(p)]] == 0:\n",
        "            del window_count[s[i - len(p)]]\n",
        "\n",
        "        # Update the window count by adding the current character\n",
        "        window_count[s[i]] += 1\n",
        "\n",
        "    # Check if the last window is an anagram\n",
        "    if p_count == window_count:\n",
        "        result.append(len(s) - len(p))\n",
        "\n",
        "    return result\n",
        "\n",
        "s = \"cbaebabacd\"\n",
        "p = \"abc\"\n",
        "print(findAnagrams(s, p))"
      ],
      "metadata": {
        "colab": {
          "base_uri": "https://localhost:8080/"
        },
        "id": "46DWP0_ndGnG",
        "outputId": "5ffdd8ab-8ffc-4867-8d78-b8a7b8c6808e"
      },
      "execution_count": 11,
      "outputs": [
        {
          "output_type": "stream",
          "name": "stdout",
          "text": [
            "[0, 6]\n"
          ]
        }
      ]
    },
    {
      "cell_type": "code",
      "source": [
        "#Q7\n",
        "def decode(st):\n",
        "    stack = []\n",
        "    for ch in st:\n",
        "        if ch != ']':\n",
        "            stack.append(ch)\n",
        "        else:\n",
        "            curr_str = ''\n",
        "            while stack and stack[-1] != '[':\n",
        "                curr_str = stack.pop() + curr_str\n",
        "\n",
        "            if stack and stack[-1] == '[':\n",
        "                stack.pop()  # Remove the opening bracket '['\n",
        "                num_str = ''\n",
        "                while stack and stack[-1].isdigit():\n",
        "                    num_str = stack.pop() + num_str\n",
        "\n",
        "                if num_str.isdigit():\n",
        "                    num = int(num_str)\n",
        "                    decoded_str = curr_str * num\n",
        "                    stack.extend(list(decoded_str))\n",
        "\n",
        "    return ''.join(stack)\n",
        "\n",
        "s = \"3[a]2[bc]\"\n",
        "print(decode(s))"
      ],
      "metadata": {
        "colab": {
          "base_uri": "https://localhost:8080/"
        },
        "id": "qfCFqIFQi5zy",
        "outputId": "3e938c6c-adf9-4c43-b766-e4238765506a"
      },
      "execution_count": 12,
      "outputs": [
        {
          "output_type": "stream",
          "name": "stdout",
          "text": [
            "aaabcbc\n"
          ]
        }
      ]
    },
    {
      "cell_type": "code",
      "source": [
        "#Q8\n",
        "def buddyStrings(s, goal):\n",
        "    if len(s) != len(goal):\n",
        "        return False\n",
        "\n",
        "    if s == goal:\n",
        "        # Check if there are duplicate characters in s\n",
        "        seen = set()\n",
        "        for ch in s:\n",
        "            if ch in seen:\n",
        "                return True\n",
        "            seen.add(ch)\n",
        "        return False\n",
        "\n",
        "    # Find the mismatched characters\n",
        "    mismatches = []\n",
        "    for i in range(len(s)):\n",
        "        if s[i] != goal[i]:\n",
        "            mismatches.append(i)\n",
        "\n",
        "    # Check if there are exactly two mismatched positions\n",
        "    if len(mismatches) != 2:\n",
        "        return False\n",
        "\n",
        "    # Check if swapping the characters produces goal\n",
        "    return s[mismatches[0]] == goal[mismatches[1]] and s[mismatches[1]] == goal[mismatches[0]]\n",
        "\n",
        "s = \"abcd\"\n",
        "goal = \"cbad\"\n",
        "print(buddyStrings(s, goal))\n",
        "\n",
        "s = \"aaaaaaabc\"\n",
        "goal = \"aaaaaaacb\"\n",
        "print(buddyStrings(s, goal))\n",
        "\n",
        "s = \"ab\"\n",
        "goal = \"ab\"\n",
        "print(buddyStrings(s, goal))\n"
      ],
      "metadata": {
        "colab": {
          "base_uri": "https://localhost:8080/"
        },
        "id": "jEzOIZWfl5oH",
        "outputId": "97d83c99-fe5c-4701-81ff-b1c7eadd7e22"
      },
      "execution_count": 13,
      "outputs": [
        {
          "output_type": "stream",
          "name": "stdout",
          "text": [
            "True\n",
            "True\n",
            "False\n"
          ]
        }
      ]
    }
  ]
}